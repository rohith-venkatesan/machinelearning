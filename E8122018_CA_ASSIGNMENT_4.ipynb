{
  "nbformat": 4,
  "nbformat_minor": 0,
  "metadata": {
    "colab": {
      "provenance": []
    },
    "kernelspec": {
      "name": "python3",
      "display_name": "Python 3"
    },
    "language_info": {
      "name": "python"
    }
  },
  "cells": [
    {
      "cell_type": "code",
      "execution_count": 7,
      "metadata": {
        "id": "Zebi9CjTqUWA"
      },
      "outputs": [],
      "source": [
        "import numpy as np\n",
        "import matplotlib.pyplot as plt\n",
        "import pandas as pd  \n",
        "  "
      ]
    },
    {
      "cell_type": "code",
      "source": [
        "df=pd.read_csv(\"/content/residential_properties.csv\")\n",
        "df"
      ],
      "metadata": {
        "colab": {
          "base_uri": "https://localhost:8080/",
          "height": 644
        },
        "id": "o7Lb9yuIqZln",
        "outputId": "a977e2f1-e671-418f-e111-0a9db9dbadbc"
      },
      "execution_count": 2,
      "outputs": [
        {
          "output_type": "execute_result",
          "data": {
            "text/plain": [
              "    Size (sq ft)  Bedrooms  Bathrooms  Location  Year Built  Garage Size  \\\n",
              "0           1800         3          2  Downtown        1990            1   \n",
              "1           2200         4          3  Suburban        2005            2   \n",
              "2           1200         2          1     Rural        1985            0   \n",
              "3           3000         5          4  Downtown        2010            3   \n",
              "4           2500         4          3  Suburban        2000            2   \n",
              "5           1400         2          1     Rural        1970            1   \n",
              "6           2000         3          2  Downtown        2008            2   \n",
              "7           1800         3          2  Suburban        1995            1   \n",
              "8           1600         2          1     Rural        1980            0   \n",
              "9           2800         4          3  Downtown        2015            3   \n",
              "10          2400         3          2  Suburban        2007            2   \n",
              "11          1000         1          1     Rural        1950            0   \n",
              "12          2600         4          3  Downtown        2012            2   \n",
              "13          2000         3          2  Suburban        2003            1   \n",
              "14          1800         2          1     Rural        1992            1   \n",
              "15          3200         5          4  Downtown        2020            3   \n",
              "16          2700         4          3  Suburban        2010            2   \n",
              "17          1300         2          1     Rural        1975            0   \n",
              "18          3400         5          4  Downtown        2018            3   \n",
              "\n",
              "    Distance to School (mi)  Selling Price (k$)  \n",
              "0                       0.5                 250  \n",
              "1                       1.2                 400  \n",
              "2                       3.6                 150  \n",
              "3                       0.8                 700  \n",
              "4                       2.1                 500  \n",
              "5                       2.7                 175  \n",
              "6                       0.3                 350  \n",
              "7                       1.8                 300  \n",
              "8                       4.3                 125  \n",
              "9                       0.6                 650  \n",
              "10                      1.5                 450  \n",
              "11                      5.2                 100  \n",
              "12                      0.7                 550  \n",
              "13                      2.3                 375  \n",
              "14                      3.8                 200  \n",
              "15                      0.9                 900  \n",
              "16                      1.4                 600  \n",
              "17                      3.2                 135  \n",
              "18                      0.5                 800  "
            ],
            "text/html": [
              "\n",
              "  <div id=\"df-942f894a-3cb4-4398-8527-3c341a12a9d3\">\n",
              "    <div class=\"colab-df-container\">\n",
              "      <div>\n",
              "<style scoped>\n",
              "    .dataframe tbody tr th:only-of-type {\n",
              "        vertical-align: middle;\n",
              "    }\n",
              "\n",
              "    .dataframe tbody tr th {\n",
              "        vertical-align: top;\n",
              "    }\n",
              "\n",
              "    .dataframe thead th {\n",
              "        text-align: right;\n",
              "    }\n",
              "</style>\n",
              "<table border=\"1\" class=\"dataframe\">\n",
              "  <thead>\n",
              "    <tr style=\"text-align: right;\">\n",
              "      <th></th>\n",
              "      <th>Size (sq ft)</th>\n",
              "      <th>Bedrooms</th>\n",
              "      <th>Bathrooms</th>\n",
              "      <th>Location</th>\n",
              "      <th>Year Built</th>\n",
              "      <th>Garage Size</th>\n",
              "      <th>Distance to School (mi)</th>\n",
              "      <th>Selling Price (k$)</th>\n",
              "    </tr>\n",
              "  </thead>\n",
              "  <tbody>\n",
              "    <tr>\n",
              "      <th>0</th>\n",
              "      <td>1800</td>\n",
              "      <td>3</td>\n",
              "      <td>2</td>\n",
              "      <td>Downtown</td>\n",
              "      <td>1990</td>\n",
              "      <td>1</td>\n",
              "      <td>0.5</td>\n",
              "      <td>250</td>\n",
              "    </tr>\n",
              "    <tr>\n",
              "      <th>1</th>\n",
              "      <td>2200</td>\n",
              "      <td>4</td>\n",
              "      <td>3</td>\n",
              "      <td>Suburban</td>\n",
              "      <td>2005</td>\n",
              "      <td>2</td>\n",
              "      <td>1.2</td>\n",
              "      <td>400</td>\n",
              "    </tr>\n",
              "    <tr>\n",
              "      <th>2</th>\n",
              "      <td>1200</td>\n",
              "      <td>2</td>\n",
              "      <td>1</td>\n",
              "      <td>Rural</td>\n",
              "      <td>1985</td>\n",
              "      <td>0</td>\n",
              "      <td>3.6</td>\n",
              "      <td>150</td>\n",
              "    </tr>\n",
              "    <tr>\n",
              "      <th>3</th>\n",
              "      <td>3000</td>\n",
              "      <td>5</td>\n",
              "      <td>4</td>\n",
              "      <td>Downtown</td>\n",
              "      <td>2010</td>\n",
              "      <td>3</td>\n",
              "      <td>0.8</td>\n",
              "      <td>700</td>\n",
              "    </tr>\n",
              "    <tr>\n",
              "      <th>4</th>\n",
              "      <td>2500</td>\n",
              "      <td>4</td>\n",
              "      <td>3</td>\n",
              "      <td>Suburban</td>\n",
              "      <td>2000</td>\n",
              "      <td>2</td>\n",
              "      <td>2.1</td>\n",
              "      <td>500</td>\n",
              "    </tr>\n",
              "    <tr>\n",
              "      <th>5</th>\n",
              "      <td>1400</td>\n",
              "      <td>2</td>\n",
              "      <td>1</td>\n",
              "      <td>Rural</td>\n",
              "      <td>1970</td>\n",
              "      <td>1</td>\n",
              "      <td>2.7</td>\n",
              "      <td>175</td>\n",
              "    </tr>\n",
              "    <tr>\n",
              "      <th>6</th>\n",
              "      <td>2000</td>\n",
              "      <td>3</td>\n",
              "      <td>2</td>\n",
              "      <td>Downtown</td>\n",
              "      <td>2008</td>\n",
              "      <td>2</td>\n",
              "      <td>0.3</td>\n",
              "      <td>350</td>\n",
              "    </tr>\n",
              "    <tr>\n",
              "      <th>7</th>\n",
              "      <td>1800</td>\n",
              "      <td>3</td>\n",
              "      <td>2</td>\n",
              "      <td>Suburban</td>\n",
              "      <td>1995</td>\n",
              "      <td>1</td>\n",
              "      <td>1.8</td>\n",
              "      <td>300</td>\n",
              "    </tr>\n",
              "    <tr>\n",
              "      <th>8</th>\n",
              "      <td>1600</td>\n",
              "      <td>2</td>\n",
              "      <td>1</td>\n",
              "      <td>Rural</td>\n",
              "      <td>1980</td>\n",
              "      <td>0</td>\n",
              "      <td>4.3</td>\n",
              "      <td>125</td>\n",
              "    </tr>\n",
              "    <tr>\n",
              "      <th>9</th>\n",
              "      <td>2800</td>\n",
              "      <td>4</td>\n",
              "      <td>3</td>\n",
              "      <td>Downtown</td>\n",
              "      <td>2015</td>\n",
              "      <td>3</td>\n",
              "      <td>0.6</td>\n",
              "      <td>650</td>\n",
              "    </tr>\n",
              "    <tr>\n",
              "      <th>10</th>\n",
              "      <td>2400</td>\n",
              "      <td>3</td>\n",
              "      <td>2</td>\n",
              "      <td>Suburban</td>\n",
              "      <td>2007</td>\n",
              "      <td>2</td>\n",
              "      <td>1.5</td>\n",
              "      <td>450</td>\n",
              "    </tr>\n",
              "    <tr>\n",
              "      <th>11</th>\n",
              "      <td>1000</td>\n",
              "      <td>1</td>\n",
              "      <td>1</td>\n",
              "      <td>Rural</td>\n",
              "      <td>1950</td>\n",
              "      <td>0</td>\n",
              "      <td>5.2</td>\n",
              "      <td>100</td>\n",
              "    </tr>\n",
              "    <tr>\n",
              "      <th>12</th>\n",
              "      <td>2600</td>\n",
              "      <td>4</td>\n",
              "      <td>3</td>\n",
              "      <td>Downtown</td>\n",
              "      <td>2012</td>\n",
              "      <td>2</td>\n",
              "      <td>0.7</td>\n",
              "      <td>550</td>\n",
              "    </tr>\n",
              "    <tr>\n",
              "      <th>13</th>\n",
              "      <td>2000</td>\n",
              "      <td>3</td>\n",
              "      <td>2</td>\n",
              "      <td>Suburban</td>\n",
              "      <td>2003</td>\n",
              "      <td>1</td>\n",
              "      <td>2.3</td>\n",
              "      <td>375</td>\n",
              "    </tr>\n",
              "    <tr>\n",
              "      <th>14</th>\n",
              "      <td>1800</td>\n",
              "      <td>2</td>\n",
              "      <td>1</td>\n",
              "      <td>Rural</td>\n",
              "      <td>1992</td>\n",
              "      <td>1</td>\n",
              "      <td>3.8</td>\n",
              "      <td>200</td>\n",
              "    </tr>\n",
              "    <tr>\n",
              "      <th>15</th>\n",
              "      <td>3200</td>\n",
              "      <td>5</td>\n",
              "      <td>4</td>\n",
              "      <td>Downtown</td>\n",
              "      <td>2020</td>\n",
              "      <td>3</td>\n",
              "      <td>0.9</td>\n",
              "      <td>900</td>\n",
              "    </tr>\n",
              "    <tr>\n",
              "      <th>16</th>\n",
              "      <td>2700</td>\n",
              "      <td>4</td>\n",
              "      <td>3</td>\n",
              "      <td>Suburban</td>\n",
              "      <td>2010</td>\n",
              "      <td>2</td>\n",
              "      <td>1.4</td>\n",
              "      <td>600</td>\n",
              "    </tr>\n",
              "    <tr>\n",
              "      <th>17</th>\n",
              "      <td>1300</td>\n",
              "      <td>2</td>\n",
              "      <td>1</td>\n",
              "      <td>Rural</td>\n",
              "      <td>1975</td>\n",
              "      <td>0</td>\n",
              "      <td>3.2</td>\n",
              "      <td>135</td>\n",
              "    </tr>\n",
              "    <tr>\n",
              "      <th>18</th>\n",
              "      <td>3400</td>\n",
              "      <td>5</td>\n",
              "      <td>4</td>\n",
              "      <td>Downtown</td>\n",
              "      <td>2018</td>\n",
              "      <td>3</td>\n",
              "      <td>0.5</td>\n",
              "      <td>800</td>\n",
              "    </tr>\n",
              "  </tbody>\n",
              "</table>\n",
              "</div>\n",
              "      <button class=\"colab-df-convert\" onclick=\"convertToInteractive('df-942f894a-3cb4-4398-8527-3c341a12a9d3')\"\n",
              "              title=\"Convert this dataframe to an interactive table.\"\n",
              "              style=\"display:none;\">\n",
              "        \n",
              "  <svg xmlns=\"http://www.w3.org/2000/svg\" height=\"24px\"viewBox=\"0 0 24 24\"\n",
              "       width=\"24px\">\n",
              "    <path d=\"M0 0h24v24H0V0z\" fill=\"none\"/>\n",
              "    <path d=\"M18.56 5.44l.94 2.06.94-2.06 2.06-.94-2.06-.94-.94-2.06-.94 2.06-2.06.94zm-11 1L8.5 8.5l.94-2.06 2.06-.94-2.06-.94L8.5 2.5l-.94 2.06-2.06.94zm10 10l.94 2.06.94-2.06 2.06-.94-2.06-.94-.94-2.06-.94 2.06-2.06.94z\"/><path d=\"M17.41 7.96l-1.37-1.37c-.4-.4-.92-.59-1.43-.59-.52 0-1.04.2-1.43.59L10.3 9.45l-7.72 7.72c-.78.78-.78 2.05 0 2.83L4 21.41c.39.39.9.59 1.41.59.51 0 1.02-.2 1.41-.59l7.78-7.78 2.81-2.81c.8-.78.8-2.07 0-2.86zM5.41 20L4 18.59l7.72-7.72 1.47 1.35L5.41 20z\"/>\n",
              "  </svg>\n",
              "      </button>\n",
              "      \n",
              "  <style>\n",
              "    .colab-df-container {\n",
              "      display:flex;\n",
              "      flex-wrap:wrap;\n",
              "      gap: 12px;\n",
              "    }\n",
              "\n",
              "    .colab-df-convert {\n",
              "      background-color: #E8F0FE;\n",
              "      border: none;\n",
              "      border-radius: 50%;\n",
              "      cursor: pointer;\n",
              "      display: none;\n",
              "      fill: #1967D2;\n",
              "      height: 32px;\n",
              "      padding: 0 0 0 0;\n",
              "      width: 32px;\n",
              "    }\n",
              "\n",
              "    .colab-df-convert:hover {\n",
              "      background-color: #E2EBFA;\n",
              "      box-shadow: 0px 1px 2px rgba(60, 64, 67, 0.3), 0px 1px 3px 1px rgba(60, 64, 67, 0.15);\n",
              "      fill: #174EA6;\n",
              "    }\n",
              "\n",
              "    [theme=dark] .colab-df-convert {\n",
              "      background-color: #3B4455;\n",
              "      fill: #D2E3FC;\n",
              "    }\n",
              "\n",
              "    [theme=dark] .colab-df-convert:hover {\n",
              "      background-color: #434B5C;\n",
              "      box-shadow: 0px 1px 3px 1px rgba(0, 0, 0, 0.15);\n",
              "      filter: drop-shadow(0px 1px 2px rgba(0, 0, 0, 0.3));\n",
              "      fill: #FFFFFF;\n",
              "    }\n",
              "  </style>\n",
              "\n",
              "      <script>\n",
              "        const buttonEl =\n",
              "          document.querySelector('#df-942f894a-3cb4-4398-8527-3c341a12a9d3 button.colab-df-convert');\n",
              "        buttonEl.style.display =\n",
              "          google.colab.kernel.accessAllowed ? 'block' : 'none';\n",
              "\n",
              "        async function convertToInteractive(key) {\n",
              "          const element = document.querySelector('#df-942f894a-3cb4-4398-8527-3c341a12a9d3');\n",
              "          const dataTable =\n",
              "            await google.colab.kernel.invokeFunction('convertToInteractive',\n",
              "                                                     [key], {});\n",
              "          if (!dataTable) return;\n",
              "\n",
              "          const docLinkHtml = 'Like what you see? Visit the ' +\n",
              "            '<a target=\"_blank\" href=https://colab.research.google.com/notebooks/data_table.ipynb>data table notebook</a>'\n",
              "            + ' to learn more about interactive tables.';\n",
              "          element.innerHTML = '';\n",
              "          dataTable['output_type'] = 'display_data';\n",
              "          await google.colab.output.renderOutput(dataTable, element);\n",
              "          const docLink = document.createElement('div');\n",
              "          docLink.innerHTML = docLinkHtml;\n",
              "          element.appendChild(docLink);\n",
              "        }\n",
              "      </script>\n",
              "    </div>\n",
              "  </div>\n",
              "  "
            ]
          },
          "metadata": {},
          "execution_count": 2
        }
      ]
    },
    {
      "cell_type": "code",
      "source": [
        "df.info()"
      ],
      "metadata": {
        "colab": {
          "base_uri": "https://localhost:8080/"
        },
        "id": "nMM0Q0NYqnKa",
        "outputId": "5c5dfd35-3cde-4770-81db-f84f8a992af0"
      },
      "execution_count": 3,
      "outputs": [
        {
          "output_type": "stream",
          "name": "stdout",
          "text": [
            "<class 'pandas.core.frame.DataFrame'>\n",
            "RangeIndex: 19 entries, 0 to 18\n",
            "Data columns (total 8 columns):\n",
            " #   Column                   Non-Null Count  Dtype  \n",
            "---  ------                   --------------  -----  \n",
            " 0   Size (sq ft)             19 non-null     int64  \n",
            " 1   Bedrooms                 19 non-null     int64  \n",
            " 2   Bathrooms                19 non-null     int64  \n",
            " 3   Location                 19 non-null     object \n",
            " 4   Year Built               19 non-null     int64  \n",
            " 5   Garage Size              19 non-null     int64  \n",
            " 6   Distance to School (mi)  19 non-null     float64\n",
            " 7   Selling Price (k$)       19 non-null     int64  \n",
            "dtypes: float64(1), int64(6), object(1)\n",
            "memory usage: 1.3+ KB\n"
          ]
        }
      ]
    },
    {
      "cell_type": "code",
      "source": [
        "df.isnull().sum()"
      ],
      "metadata": {
        "colab": {
          "base_uri": "https://localhost:8080/"
        },
        "id": "XfyNbUd_qqSW",
        "outputId": "ef9c9a38-dfa5-4b32-8fe4-b8358937345f"
      },
      "execution_count": 4,
      "outputs": [
        {
          "output_type": "execute_result",
          "data": {
            "text/plain": [
              "Size (sq ft)               0\n",
              "Bedrooms                   0\n",
              "Bathrooms                  0\n",
              "Location                   0\n",
              "Year Built                 0\n",
              "Garage Size                0\n",
              "Distance to School (mi)    0\n",
              "Selling Price (k$)         0\n",
              "dtype: int64"
            ]
          },
          "metadata": {},
          "execution_count": 4
        }
      ]
    },
    {
      "cell_type": "code",
      "source": [
        "df.dtypes"
      ],
      "metadata": {
        "colab": {
          "base_uri": "https://localhost:8080/"
        },
        "id": "hgdLBJ1iquws",
        "outputId": "3034c2d6-e8d9-4f11-e754-59861410301d"
      },
      "execution_count": 5,
      "outputs": [
        {
          "output_type": "execute_result",
          "data": {
            "text/plain": [
              "Size (sq ft)                 int64\n",
              "Bedrooms                     int64\n",
              "Bathrooms                    int64\n",
              "Location                    object\n",
              "Year Built                   int64\n",
              "Garage Size                  int64\n",
              "Distance to School (mi)    float64\n",
              "Selling Price (k$)           int64\n",
              "dtype: object"
            ]
          },
          "metadata": {},
          "execution_count": 5
        }
      ]
    },
    {
      "cell_type": "code",
      "source": [
        "df.columns"
      ],
      "metadata": {
        "colab": {
          "base_uri": "https://localhost:8080/"
        },
        "id": "jlq7TG01qyil",
        "outputId": "52a678c8-c033-4011-9e22-960c599e73b4"
      },
      "execution_count": 6,
      "outputs": [
        {
          "output_type": "execute_result",
          "data": {
            "text/plain": [
              "Index(['Size (sq ft)', 'Bedrooms', 'Bathrooms', 'Location', 'Year Built',\n",
              "       'Garage Size', 'Distance to School (mi)', 'Selling Price (k$)'],\n",
              "      dtype='object')"
            ]
          },
          "metadata": {},
          "execution_count": 6
        }
      ]
    },
    {
      "cell_type": "code",
      "source": [
        "#to remove whitespace\n",
        "df.columns=df.columns.str.strip()\n",
        "df.columns"
      ],
      "metadata": {
        "colab": {
          "base_uri": "https://localhost:8080/"
        },
        "id": "nQGgF65Lq30h",
        "outputId": "2cdbc227-0b6f-4475-f692-f592fc2a7da0"
      },
      "execution_count": 8,
      "outputs": [
        {
          "output_type": "execute_result",
          "data": {
            "text/plain": [
              "Index(['Size (sq ft)', 'Bedrooms', 'Bathrooms', 'Location', 'Year Built',\n",
              "       'Garage Size', 'Distance to School (mi)', 'Selling Price (k$)'],\n",
              "      dtype='object')"
            ]
          },
          "metadata": {},
          "execution_count": 8
        }
      ]
    },
    {
      "cell_type": "code",
      "source": [
        "#to replace whitespace with underscore\n",
        "df.columns=df.columns.str.replace(' ','_')\n",
        "df.columns"
      ],
      "metadata": {
        "colab": {
          "base_uri": "https://localhost:8080/"
        },
        "id": "FZ7DdevGq8EY",
        "outputId": "74ad55f6-7c53-45a9-c4bd-957a21eedd1c"
      },
      "execution_count": 9,
      "outputs": [
        {
          "output_type": "execute_result",
          "data": {
            "text/plain": [
              "Index(['Size_(sq_ft)', 'Bedrooms', 'Bathrooms', 'Location', 'Year_Built',\n",
              "       'Garage_Size', 'Distance_to_School_(mi)', 'Selling_Price_(k$)'],\n",
              "      dtype='object')"
            ]
          },
          "metadata": {},
          "execution_count": 9
        }
      ]
    },
    {
      "cell_type": "code",
      "source": [
        "df.info()"
      ],
      "metadata": {
        "colab": {
          "base_uri": "https://localhost:8080/"
        },
        "id": "FW9x2OY_rC94",
        "outputId": "b51d7976-0ff0-4144-9d22-e34146d48b02"
      },
      "execution_count": 10,
      "outputs": [
        {
          "output_type": "stream",
          "name": "stdout",
          "text": [
            "<class 'pandas.core.frame.DataFrame'>\n",
            "RangeIndex: 19 entries, 0 to 18\n",
            "Data columns (total 8 columns):\n",
            " #   Column                   Non-Null Count  Dtype  \n",
            "---  ------                   --------------  -----  \n",
            " 0   Size_(sq_ft)             19 non-null     int64  \n",
            " 1   Bedrooms                 19 non-null     int64  \n",
            " 2   Bathrooms                19 non-null     int64  \n",
            " 3   Location                 19 non-null     object \n",
            " 4   Year_Built               19 non-null     int64  \n",
            " 5   Garage_Size              19 non-null     int64  \n",
            " 6   Distance_to_School_(mi)  19 non-null     float64\n",
            " 7   Selling_Price_(k$)       19 non-null     int64  \n",
            "dtypes: float64(1), int64(6), object(1)\n",
            "memory usage: 1.3+ KB\n"
          ]
        }
      ]
    },
    {
      "cell_type": "code",
      "source": [
        "#to fetch the columns with numerical data types\n",
        "df_numeric=df.select_dtypes(exclude=['object'])\n",
        "df_numeric"
      ],
      "metadata": {
        "colab": {
          "base_uri": "https://localhost:8080/",
          "height": 644
        },
        "id": "rFsq94V9rcXc",
        "outputId": "4fdf6751-9975-4b16-e816-48def6d91a93"
      },
      "execution_count": 11,
      "outputs": [
        {
          "output_type": "execute_result",
          "data": {
            "text/plain": [
              "    Size_(sq_ft)  Bedrooms  Bathrooms  Year_Built  Garage_Size  \\\n",
              "0           1800         3          2        1990            1   \n",
              "1           2200         4          3        2005            2   \n",
              "2           1200         2          1        1985            0   \n",
              "3           3000         5          4        2010            3   \n",
              "4           2500         4          3        2000            2   \n",
              "5           1400         2          1        1970            1   \n",
              "6           2000         3          2        2008            2   \n",
              "7           1800         3          2        1995            1   \n",
              "8           1600         2          1        1980            0   \n",
              "9           2800         4          3        2015            3   \n",
              "10          2400         3          2        2007            2   \n",
              "11          1000         1          1        1950            0   \n",
              "12          2600         4          3        2012            2   \n",
              "13          2000         3          2        2003            1   \n",
              "14          1800         2          1        1992            1   \n",
              "15          3200         5          4        2020            3   \n",
              "16          2700         4          3        2010            2   \n",
              "17          1300         2          1        1975            0   \n",
              "18          3400         5          4        2018            3   \n",
              "\n",
              "    Distance_to_School_(mi)  Selling_Price_(k$)  \n",
              "0                       0.5                 250  \n",
              "1                       1.2                 400  \n",
              "2                       3.6                 150  \n",
              "3                       0.8                 700  \n",
              "4                       2.1                 500  \n",
              "5                       2.7                 175  \n",
              "6                       0.3                 350  \n",
              "7                       1.8                 300  \n",
              "8                       4.3                 125  \n",
              "9                       0.6                 650  \n",
              "10                      1.5                 450  \n",
              "11                      5.2                 100  \n",
              "12                      0.7                 550  \n",
              "13                      2.3                 375  \n",
              "14                      3.8                 200  \n",
              "15                      0.9                 900  \n",
              "16                      1.4                 600  \n",
              "17                      3.2                 135  \n",
              "18                      0.5                 800  "
            ],
            "text/html": [
              "\n",
              "  <div id=\"df-9081c7d3-93a4-40e3-825b-47e835612ffb\">\n",
              "    <div class=\"colab-df-container\">\n",
              "      <div>\n",
              "<style scoped>\n",
              "    .dataframe tbody tr th:only-of-type {\n",
              "        vertical-align: middle;\n",
              "    }\n",
              "\n",
              "    .dataframe tbody tr th {\n",
              "        vertical-align: top;\n",
              "    }\n",
              "\n",
              "    .dataframe thead th {\n",
              "        text-align: right;\n",
              "    }\n",
              "</style>\n",
              "<table border=\"1\" class=\"dataframe\">\n",
              "  <thead>\n",
              "    <tr style=\"text-align: right;\">\n",
              "      <th></th>\n",
              "      <th>Size_(sq_ft)</th>\n",
              "      <th>Bedrooms</th>\n",
              "      <th>Bathrooms</th>\n",
              "      <th>Year_Built</th>\n",
              "      <th>Garage_Size</th>\n",
              "      <th>Distance_to_School_(mi)</th>\n",
              "      <th>Selling_Price_(k$)</th>\n",
              "    </tr>\n",
              "  </thead>\n",
              "  <tbody>\n",
              "    <tr>\n",
              "      <th>0</th>\n",
              "      <td>1800</td>\n",
              "      <td>3</td>\n",
              "      <td>2</td>\n",
              "      <td>1990</td>\n",
              "      <td>1</td>\n",
              "      <td>0.5</td>\n",
              "      <td>250</td>\n",
              "    </tr>\n",
              "    <tr>\n",
              "      <th>1</th>\n",
              "      <td>2200</td>\n",
              "      <td>4</td>\n",
              "      <td>3</td>\n",
              "      <td>2005</td>\n",
              "      <td>2</td>\n",
              "      <td>1.2</td>\n",
              "      <td>400</td>\n",
              "    </tr>\n",
              "    <tr>\n",
              "      <th>2</th>\n",
              "      <td>1200</td>\n",
              "      <td>2</td>\n",
              "      <td>1</td>\n",
              "      <td>1985</td>\n",
              "      <td>0</td>\n",
              "      <td>3.6</td>\n",
              "      <td>150</td>\n",
              "    </tr>\n",
              "    <tr>\n",
              "      <th>3</th>\n",
              "      <td>3000</td>\n",
              "      <td>5</td>\n",
              "      <td>4</td>\n",
              "      <td>2010</td>\n",
              "      <td>3</td>\n",
              "      <td>0.8</td>\n",
              "      <td>700</td>\n",
              "    </tr>\n",
              "    <tr>\n",
              "      <th>4</th>\n",
              "      <td>2500</td>\n",
              "      <td>4</td>\n",
              "      <td>3</td>\n",
              "      <td>2000</td>\n",
              "      <td>2</td>\n",
              "      <td>2.1</td>\n",
              "      <td>500</td>\n",
              "    </tr>\n",
              "    <tr>\n",
              "      <th>5</th>\n",
              "      <td>1400</td>\n",
              "      <td>2</td>\n",
              "      <td>1</td>\n",
              "      <td>1970</td>\n",
              "      <td>1</td>\n",
              "      <td>2.7</td>\n",
              "      <td>175</td>\n",
              "    </tr>\n",
              "    <tr>\n",
              "      <th>6</th>\n",
              "      <td>2000</td>\n",
              "      <td>3</td>\n",
              "      <td>2</td>\n",
              "      <td>2008</td>\n",
              "      <td>2</td>\n",
              "      <td>0.3</td>\n",
              "      <td>350</td>\n",
              "    </tr>\n",
              "    <tr>\n",
              "      <th>7</th>\n",
              "      <td>1800</td>\n",
              "      <td>3</td>\n",
              "      <td>2</td>\n",
              "      <td>1995</td>\n",
              "      <td>1</td>\n",
              "      <td>1.8</td>\n",
              "      <td>300</td>\n",
              "    </tr>\n",
              "    <tr>\n",
              "      <th>8</th>\n",
              "      <td>1600</td>\n",
              "      <td>2</td>\n",
              "      <td>1</td>\n",
              "      <td>1980</td>\n",
              "      <td>0</td>\n",
              "      <td>4.3</td>\n",
              "      <td>125</td>\n",
              "    </tr>\n",
              "    <tr>\n",
              "      <th>9</th>\n",
              "      <td>2800</td>\n",
              "      <td>4</td>\n",
              "      <td>3</td>\n",
              "      <td>2015</td>\n",
              "      <td>3</td>\n",
              "      <td>0.6</td>\n",
              "      <td>650</td>\n",
              "    </tr>\n",
              "    <tr>\n",
              "      <th>10</th>\n",
              "      <td>2400</td>\n",
              "      <td>3</td>\n",
              "      <td>2</td>\n",
              "      <td>2007</td>\n",
              "      <td>2</td>\n",
              "      <td>1.5</td>\n",
              "      <td>450</td>\n",
              "    </tr>\n",
              "    <tr>\n",
              "      <th>11</th>\n",
              "      <td>1000</td>\n",
              "      <td>1</td>\n",
              "      <td>1</td>\n",
              "      <td>1950</td>\n",
              "      <td>0</td>\n",
              "      <td>5.2</td>\n",
              "      <td>100</td>\n",
              "    </tr>\n",
              "    <tr>\n",
              "      <th>12</th>\n",
              "      <td>2600</td>\n",
              "      <td>4</td>\n",
              "      <td>3</td>\n",
              "      <td>2012</td>\n",
              "      <td>2</td>\n",
              "      <td>0.7</td>\n",
              "      <td>550</td>\n",
              "    </tr>\n",
              "    <tr>\n",
              "      <th>13</th>\n",
              "      <td>2000</td>\n",
              "      <td>3</td>\n",
              "      <td>2</td>\n",
              "      <td>2003</td>\n",
              "      <td>1</td>\n",
              "      <td>2.3</td>\n",
              "      <td>375</td>\n",
              "    </tr>\n",
              "    <tr>\n",
              "      <th>14</th>\n",
              "      <td>1800</td>\n",
              "      <td>2</td>\n",
              "      <td>1</td>\n",
              "      <td>1992</td>\n",
              "      <td>1</td>\n",
              "      <td>3.8</td>\n",
              "      <td>200</td>\n",
              "    </tr>\n",
              "    <tr>\n",
              "      <th>15</th>\n",
              "      <td>3200</td>\n",
              "      <td>5</td>\n",
              "      <td>4</td>\n",
              "      <td>2020</td>\n",
              "      <td>3</td>\n",
              "      <td>0.9</td>\n",
              "      <td>900</td>\n",
              "    </tr>\n",
              "    <tr>\n",
              "      <th>16</th>\n",
              "      <td>2700</td>\n",
              "      <td>4</td>\n",
              "      <td>3</td>\n",
              "      <td>2010</td>\n",
              "      <td>2</td>\n",
              "      <td>1.4</td>\n",
              "      <td>600</td>\n",
              "    </tr>\n",
              "    <tr>\n",
              "      <th>17</th>\n",
              "      <td>1300</td>\n",
              "      <td>2</td>\n",
              "      <td>1</td>\n",
              "      <td>1975</td>\n",
              "      <td>0</td>\n",
              "      <td>3.2</td>\n",
              "      <td>135</td>\n",
              "    </tr>\n",
              "    <tr>\n",
              "      <th>18</th>\n",
              "      <td>3400</td>\n",
              "      <td>5</td>\n",
              "      <td>4</td>\n",
              "      <td>2018</td>\n",
              "      <td>3</td>\n",
              "      <td>0.5</td>\n",
              "      <td>800</td>\n",
              "    </tr>\n",
              "  </tbody>\n",
              "</table>\n",
              "</div>\n",
              "      <button class=\"colab-df-convert\" onclick=\"convertToInteractive('df-9081c7d3-93a4-40e3-825b-47e835612ffb')\"\n",
              "              title=\"Convert this dataframe to an interactive table.\"\n",
              "              style=\"display:none;\">\n",
              "        \n",
              "  <svg xmlns=\"http://www.w3.org/2000/svg\" height=\"24px\"viewBox=\"0 0 24 24\"\n",
              "       width=\"24px\">\n",
              "    <path d=\"M0 0h24v24H0V0z\" fill=\"none\"/>\n",
              "    <path d=\"M18.56 5.44l.94 2.06.94-2.06 2.06-.94-2.06-.94-.94-2.06-.94 2.06-2.06.94zm-11 1L8.5 8.5l.94-2.06 2.06-.94-2.06-.94L8.5 2.5l-.94 2.06-2.06.94zm10 10l.94 2.06.94-2.06 2.06-.94-2.06-.94-.94-2.06-.94 2.06-2.06.94z\"/><path d=\"M17.41 7.96l-1.37-1.37c-.4-.4-.92-.59-1.43-.59-.52 0-1.04.2-1.43.59L10.3 9.45l-7.72 7.72c-.78.78-.78 2.05 0 2.83L4 21.41c.39.39.9.59 1.41.59.51 0 1.02-.2 1.41-.59l7.78-7.78 2.81-2.81c.8-.78.8-2.07 0-2.86zM5.41 20L4 18.59l7.72-7.72 1.47 1.35L5.41 20z\"/>\n",
              "  </svg>\n",
              "      </button>\n",
              "      \n",
              "  <style>\n",
              "    .colab-df-container {\n",
              "      display:flex;\n",
              "      flex-wrap:wrap;\n",
              "      gap: 12px;\n",
              "    }\n",
              "\n",
              "    .colab-df-convert {\n",
              "      background-color: #E8F0FE;\n",
              "      border: none;\n",
              "      border-radius: 50%;\n",
              "      cursor: pointer;\n",
              "      display: none;\n",
              "      fill: #1967D2;\n",
              "      height: 32px;\n",
              "      padding: 0 0 0 0;\n",
              "      width: 32px;\n",
              "    }\n",
              "\n",
              "    .colab-df-convert:hover {\n",
              "      background-color: #E2EBFA;\n",
              "      box-shadow: 0px 1px 2px rgba(60, 64, 67, 0.3), 0px 1px 3px 1px rgba(60, 64, 67, 0.15);\n",
              "      fill: #174EA6;\n",
              "    }\n",
              "\n",
              "    [theme=dark] .colab-df-convert {\n",
              "      background-color: #3B4455;\n",
              "      fill: #D2E3FC;\n",
              "    }\n",
              "\n",
              "    [theme=dark] .colab-df-convert:hover {\n",
              "      background-color: #434B5C;\n",
              "      box-shadow: 0px 1px 3px 1px rgba(0, 0, 0, 0.15);\n",
              "      filter: drop-shadow(0px 1px 2px rgba(0, 0, 0, 0.3));\n",
              "      fill: #FFFFFF;\n",
              "    }\n",
              "  </style>\n",
              "\n",
              "      <script>\n",
              "        const buttonEl =\n",
              "          document.querySelector('#df-9081c7d3-93a4-40e3-825b-47e835612ffb button.colab-df-convert');\n",
              "        buttonEl.style.display =\n",
              "          google.colab.kernel.accessAllowed ? 'block' : 'none';\n",
              "\n",
              "        async function convertToInteractive(key) {\n",
              "          const element = document.querySelector('#df-9081c7d3-93a4-40e3-825b-47e835612ffb');\n",
              "          const dataTable =\n",
              "            await google.colab.kernel.invokeFunction('convertToInteractive',\n",
              "                                                     [key], {});\n",
              "          if (!dataTable) return;\n",
              "\n",
              "          const docLinkHtml = 'Like what you see? Visit the ' +\n",
              "            '<a target=\"_blank\" href=https://colab.research.google.com/notebooks/data_table.ipynb>data table notebook</a>'\n",
              "            + ' to learn more about interactive tables.';\n",
              "          element.innerHTML = '';\n",
              "          dataTable['output_type'] = 'display_data';\n",
              "          await google.colab.output.renderOutput(dataTable, element);\n",
              "          const docLink = document.createElement('div');\n",
              "          docLink.innerHTML = docLinkHtml;\n",
              "          element.appendChild(docLink);\n",
              "        }\n",
              "      </script>\n",
              "    </div>\n",
              "  </div>\n",
              "  "
            ]
          },
          "metadata": {},
          "execution_count": 11
        }
      ]
    },
    {
      "cell_type": "code",
      "source": [
        "df_numeric.dtypes"
      ],
      "metadata": {
        "colab": {
          "base_uri": "https://localhost:8080/"
        },
        "id": "mD_WsLStsTEc",
        "outputId": "e71d3372-a6e6-4414-f38c-73d54830a345"
      },
      "execution_count": 12,
      "outputs": [
        {
          "output_type": "execute_result",
          "data": {
            "text/plain": [
              "Size_(sq_ft)                 int64\n",
              "Bedrooms                     int64\n",
              "Bathrooms                    int64\n",
              "Year_Built                   int64\n",
              "Garage_Size                  int64\n",
              "Distance_to_School_(mi)    float64\n",
              "Selling_Price_(k$)           int64\n",
              "dtype: object"
            ]
          },
          "metadata": {},
          "execution_count": 12
        }
      ]
    },
    {
      "cell_type": "code",
      "source": [
        "#Scaling\n",
        "from sklearn import preprocessing\n",
        "df2=df_numeric.copy()\n",
        "#scaler=preprocessing.MinMaxScaler()->default feature_range=(0,1)\n",
        "scalar=preprocessing.MinMaxScaler(feature_range=(0,1))\n",
        "df2.iloc[:,:]=scalar.fit_transform(df2)"
      ],
      "metadata": {
        "id": "svgdW0Klec_n"
      },
      "execution_count": 13,
      "outputs": []
    },
    {
      "cell_type": "code",
      "source": [
        "x=df2.drop(['Selling_Price_(k$)'],axis=1)#independent variable\n",
        "y=df2['Selling_Price_(k$)']#dependent variable,continuous variable"
      ],
      "metadata": {
        "id": "UfORkIiEsZrB"
      },
      "execution_count": 14,
      "outputs": []
    },
    {
      "cell_type": "code",
      "source": [
        "from sklearn.model_selection import train_test_split\n",
        "x_train,x_test,y_train,y_test=train_test_split(x,y,test_size=0.2,random_state=15)\n"
      ],
      "metadata": {
        "id": "YHXunH_Ys05f"
      },
      "execution_count": 15,
      "outputs": []
    },
    {
      "cell_type": "code",
      "source": [
        "from sklearn.svm import SVR #Support vector classifier \n",
        "classifier=SVR(kernel='rbf')  \n",
        "classifier.fit(x_train, y_train)  \n",
        "#prediction\n",
        "prediction=classifier.predict(x_test)\n",
        "from sklearn import metrics\n",
        "MAE=metrics.mean_absolute_error(y_test,prediction)\n",
        "print(MAE)\n",
        "MSE=metrics.mean_squared_error(y_test,prediction)\n",
        "print(MSE)\n",
        "rmse=np.sqrt(metrics.mean_squared_error(y_test,prediction))\n",
        "print(rmse)"
      ],
      "metadata": {
        "colab": {
          "base_uri": "https://localhost:8080/"
        },
        "id": "PqZJGakNvtRE",
        "outputId": "64eb006d-009a-45d2-8623-9789a8f101ad"
      },
      "execution_count": 16,
      "outputs": [
        {
          "output_type": "stream",
          "name": "stdout",
          "text": [
            "0.048430443155766945\n",
            "0.00427023278240555\n",
            "0.06534701816001667\n"
          ]
        }
      ]
    },
    {
      "cell_type": "code",
      "source": [
        "classifier.score(x_test,y_test)"
      ],
      "metadata": {
        "colab": {
          "base_uri": "https://localhost:8080/"
        },
        "id": "62NWjK4QyCFH",
        "outputId": "baa1d0c1-2c32-4cfc-f361-ef46df25ec3e"
      },
      "execution_count": 17,
      "outputs": [
        {
          "output_type": "execute_result",
          "data": {
            "text/plain": [
              "0.8898212694379015"
            ]
          },
          "metadata": {},
          "execution_count": 17
        }
      ]
    },
    {
      "cell_type": "code",
      "source": [
        "classifier.score(x_train,y_train)"
      ],
      "metadata": {
        "colab": {
          "base_uri": "https://localhost:8080/"
        },
        "id": "mhWfngBuyJCp",
        "outputId": "fec132ff-9fa8-4450-ffb6-e54ac4568ab7"
      },
      "execution_count": 18,
      "outputs": [
        {
          "output_type": "execute_result",
          "data": {
            "text/plain": [
              "0.9115993556020946"
            ]
          },
          "metadata": {},
          "execution_count": 18
        }
      ]
    },
    {
      "cell_type": "code",
      "source": [
        "from sklearn import linear_model\n",
        "lasso_reg = linear_model.Lasso(alpha=0, max_iter=100, tol=0.1)\n",
        "lasso_reg.fit(x_train,y_train)"
      ],
      "metadata": {
        "colab": {
          "base_uri": "https://localhost:8080/",
          "height": 168
        },
        "id": "4Ik5gcq9vaEC",
        "outputId": "622e971a-de5c-433f-fbce-b3a57965083c"
      },
      "execution_count": 19,
      "outputs": [
        {
          "output_type": "stream",
          "name": "stderr",
          "text": [
            "<ipython-input-19-2299031e6350>:3: UserWarning: With alpha=0, this algorithm does not converge well. You are advised to use the LinearRegression estimator\n",
            "  lasso_reg.fit(x_train,y_train)\n",
            "/usr/local/lib/python3.9/dist-packages/sklearn/linear_model/_coordinate_descent.py:631: UserWarning: Coordinate descent with no regularization may lead to unexpected results and is discouraged.\n",
            "  model = cd_fast.enet_coordinate_descent(\n"
          ]
        },
        {
          "output_type": "execute_result",
          "data": {
            "text/plain": [
              "Lasso(alpha=0, max_iter=100, tol=0.1)"
            ],
            "text/html": [
              "<style>#sk-container-id-1 {color: black;background-color: white;}#sk-container-id-1 pre{padding: 0;}#sk-container-id-1 div.sk-toggleable {background-color: white;}#sk-container-id-1 label.sk-toggleable__label {cursor: pointer;display: block;width: 100%;margin-bottom: 0;padding: 0.3em;box-sizing: border-box;text-align: center;}#sk-container-id-1 label.sk-toggleable__label-arrow:before {content: \"▸\";float: left;margin-right: 0.25em;color: #696969;}#sk-container-id-1 label.sk-toggleable__label-arrow:hover:before {color: black;}#sk-container-id-1 div.sk-estimator:hover label.sk-toggleable__label-arrow:before {color: black;}#sk-container-id-1 div.sk-toggleable__content {max-height: 0;max-width: 0;overflow: hidden;text-align: left;background-color: #f0f8ff;}#sk-container-id-1 div.sk-toggleable__content pre {margin: 0.2em;color: black;border-radius: 0.25em;background-color: #f0f8ff;}#sk-container-id-1 input.sk-toggleable__control:checked~div.sk-toggleable__content {max-height: 200px;max-width: 100%;overflow: auto;}#sk-container-id-1 input.sk-toggleable__control:checked~label.sk-toggleable__label-arrow:before {content: \"▾\";}#sk-container-id-1 div.sk-estimator input.sk-toggleable__control:checked~label.sk-toggleable__label {background-color: #d4ebff;}#sk-container-id-1 div.sk-label input.sk-toggleable__control:checked~label.sk-toggleable__label {background-color: #d4ebff;}#sk-container-id-1 input.sk-hidden--visually {border: 0;clip: rect(1px 1px 1px 1px);clip: rect(1px, 1px, 1px, 1px);height: 1px;margin: -1px;overflow: hidden;padding: 0;position: absolute;width: 1px;}#sk-container-id-1 div.sk-estimator {font-family: monospace;background-color: #f0f8ff;border: 1px dotted black;border-radius: 0.25em;box-sizing: border-box;margin-bottom: 0.5em;}#sk-container-id-1 div.sk-estimator:hover {background-color: #d4ebff;}#sk-container-id-1 div.sk-parallel-item::after {content: \"\";width: 100%;border-bottom: 1px solid gray;flex-grow: 1;}#sk-container-id-1 div.sk-label:hover label.sk-toggleable__label {background-color: #d4ebff;}#sk-container-id-1 div.sk-serial::before {content: \"\";position: absolute;border-left: 1px solid gray;box-sizing: border-box;top: 0;bottom: 0;left: 50%;z-index: 0;}#sk-container-id-1 div.sk-serial {display: flex;flex-direction: column;align-items: center;background-color: white;padding-right: 0.2em;padding-left: 0.2em;position: relative;}#sk-container-id-1 div.sk-item {position: relative;z-index: 1;}#sk-container-id-1 div.sk-parallel {display: flex;align-items: stretch;justify-content: center;background-color: white;position: relative;}#sk-container-id-1 div.sk-item::before, #sk-container-id-1 div.sk-parallel-item::before {content: \"\";position: absolute;border-left: 1px solid gray;box-sizing: border-box;top: 0;bottom: 0;left: 50%;z-index: -1;}#sk-container-id-1 div.sk-parallel-item {display: flex;flex-direction: column;z-index: 1;position: relative;background-color: white;}#sk-container-id-1 div.sk-parallel-item:first-child::after {align-self: flex-end;width: 50%;}#sk-container-id-1 div.sk-parallel-item:last-child::after {align-self: flex-start;width: 50%;}#sk-container-id-1 div.sk-parallel-item:only-child::after {width: 0;}#sk-container-id-1 div.sk-dashed-wrapped {border: 1px dashed gray;margin: 0 0.4em 0.5em 0.4em;box-sizing: border-box;padding-bottom: 0.4em;background-color: white;}#sk-container-id-1 div.sk-label label {font-family: monospace;font-weight: bold;display: inline-block;line-height: 1.2em;}#sk-container-id-1 div.sk-label-container {text-align: center;}#sk-container-id-1 div.sk-container {/* jupyter's `normalize.less` sets `[hidden] { display: none; }` but bootstrap.min.css set `[hidden] { display: none !important; }` so we also need the `!important` here to be able to override the default hidden behavior on the sphinx rendered scikit-learn.org. See: https://github.com/scikit-learn/scikit-learn/issues/21755 */display: inline-block !important;position: relative;}#sk-container-id-1 div.sk-text-repr-fallback {display: none;}</style><div id=\"sk-container-id-1\" class=\"sk-top-container\"><div class=\"sk-text-repr-fallback\"><pre>Lasso(alpha=0, max_iter=100, tol=0.1)</pre><b>In a Jupyter environment, please rerun this cell to show the HTML representation or trust the notebook. <br />On GitHub, the HTML representation is unable to render, please try loading this page with nbviewer.org.</b></div><div class=\"sk-container\" hidden><div class=\"sk-item\"><div class=\"sk-estimator sk-toggleable\"><input class=\"sk-toggleable__control sk-hidden--visually\" id=\"sk-estimator-id-1\" type=\"checkbox\" checked><label for=\"sk-estimator-id-1\" class=\"sk-toggleable__label sk-toggleable__label-arrow\">Lasso</label><div class=\"sk-toggleable__content\"><pre>Lasso(alpha=0, max_iter=100, tol=0.1)</pre></div></div></div></div></div>"
            ]
          },
          "metadata": {},
          "execution_count": 19
        }
      ]
    },
    {
      "cell_type": "code",
      "source": [
        "lasso_reg.score(x_test,y_test)"
      ],
      "metadata": {
        "colab": {
          "base_uri": "https://localhost:8080/"
        },
        "id": "5Wqm-UtCxrJj",
        "outputId": "ddea736e-970f-440f-fa27-51a9a0806037"
      },
      "execution_count": 20,
      "outputs": [
        {
          "output_type": "execute_result",
          "data": {
            "text/plain": [
              "0.9334050487985471"
            ]
          },
          "metadata": {},
          "execution_count": 20
        }
      ]
    },
    {
      "cell_type": "code",
      "source": [
        "lasso_reg.score(x_train,y_train)"
      ],
      "metadata": {
        "colab": {
          "base_uri": "https://localhost:8080/"
        },
        "id": "hbwELlt9xxkZ",
        "outputId": "43f3bced-d5d0-422c-a6de-8ea41d9f0967"
      },
      "execution_count": 21,
      "outputs": [
        {
          "output_type": "execute_result",
          "data": {
            "text/plain": [
              "0.9398971836976284"
            ]
          },
          "metadata": {},
          "execution_count": 21
        }
      ]
    },
    {
      "cell_type": "code",
      "source": [
        "from sklearn.linear_model import Ridge\n",
        "ridge_reg= Ridge(alpha=2, max_iter=100, tol=0.1)\n",
        "ridge_reg.fit(x_train,y_train)"
      ],
      "metadata": {
        "colab": {
          "base_uri": "https://localhost:8080/",
          "height": 75
        },
        "id": "XHtMGmwXx4lG",
        "outputId": "1b684230-2bce-48da-cd73-8d0290e5d8ca"
      },
      "execution_count": 22,
      "outputs": [
        {
          "output_type": "execute_result",
          "data": {
            "text/plain": [
              "Ridge(alpha=2, max_iter=100, tol=0.1)"
            ],
            "text/html": [
              "<style>#sk-container-id-2 {color: black;background-color: white;}#sk-container-id-2 pre{padding: 0;}#sk-container-id-2 div.sk-toggleable {background-color: white;}#sk-container-id-2 label.sk-toggleable__label {cursor: pointer;display: block;width: 100%;margin-bottom: 0;padding: 0.3em;box-sizing: border-box;text-align: center;}#sk-container-id-2 label.sk-toggleable__label-arrow:before {content: \"▸\";float: left;margin-right: 0.25em;color: #696969;}#sk-container-id-2 label.sk-toggleable__label-arrow:hover:before {color: black;}#sk-container-id-2 div.sk-estimator:hover label.sk-toggleable__label-arrow:before {color: black;}#sk-container-id-2 div.sk-toggleable__content {max-height: 0;max-width: 0;overflow: hidden;text-align: left;background-color: #f0f8ff;}#sk-container-id-2 div.sk-toggleable__content pre {margin: 0.2em;color: black;border-radius: 0.25em;background-color: #f0f8ff;}#sk-container-id-2 input.sk-toggleable__control:checked~div.sk-toggleable__content {max-height: 200px;max-width: 100%;overflow: auto;}#sk-container-id-2 input.sk-toggleable__control:checked~label.sk-toggleable__label-arrow:before {content: \"▾\";}#sk-container-id-2 div.sk-estimator input.sk-toggleable__control:checked~label.sk-toggleable__label {background-color: #d4ebff;}#sk-container-id-2 div.sk-label input.sk-toggleable__control:checked~label.sk-toggleable__label {background-color: #d4ebff;}#sk-container-id-2 input.sk-hidden--visually {border: 0;clip: rect(1px 1px 1px 1px);clip: rect(1px, 1px, 1px, 1px);height: 1px;margin: -1px;overflow: hidden;padding: 0;position: absolute;width: 1px;}#sk-container-id-2 div.sk-estimator {font-family: monospace;background-color: #f0f8ff;border: 1px dotted black;border-radius: 0.25em;box-sizing: border-box;margin-bottom: 0.5em;}#sk-container-id-2 div.sk-estimator:hover {background-color: #d4ebff;}#sk-container-id-2 div.sk-parallel-item::after {content: \"\";width: 100%;border-bottom: 1px solid gray;flex-grow: 1;}#sk-container-id-2 div.sk-label:hover label.sk-toggleable__label {background-color: #d4ebff;}#sk-container-id-2 div.sk-serial::before {content: \"\";position: absolute;border-left: 1px solid gray;box-sizing: border-box;top: 0;bottom: 0;left: 50%;z-index: 0;}#sk-container-id-2 div.sk-serial {display: flex;flex-direction: column;align-items: center;background-color: white;padding-right: 0.2em;padding-left: 0.2em;position: relative;}#sk-container-id-2 div.sk-item {position: relative;z-index: 1;}#sk-container-id-2 div.sk-parallel {display: flex;align-items: stretch;justify-content: center;background-color: white;position: relative;}#sk-container-id-2 div.sk-item::before, #sk-container-id-2 div.sk-parallel-item::before {content: \"\";position: absolute;border-left: 1px solid gray;box-sizing: border-box;top: 0;bottom: 0;left: 50%;z-index: -1;}#sk-container-id-2 div.sk-parallel-item {display: flex;flex-direction: column;z-index: 1;position: relative;background-color: white;}#sk-container-id-2 div.sk-parallel-item:first-child::after {align-self: flex-end;width: 50%;}#sk-container-id-2 div.sk-parallel-item:last-child::after {align-self: flex-start;width: 50%;}#sk-container-id-2 div.sk-parallel-item:only-child::after {width: 0;}#sk-container-id-2 div.sk-dashed-wrapped {border: 1px dashed gray;margin: 0 0.4em 0.5em 0.4em;box-sizing: border-box;padding-bottom: 0.4em;background-color: white;}#sk-container-id-2 div.sk-label label {font-family: monospace;font-weight: bold;display: inline-block;line-height: 1.2em;}#sk-container-id-2 div.sk-label-container {text-align: center;}#sk-container-id-2 div.sk-container {/* jupyter's `normalize.less` sets `[hidden] { display: none; }` but bootstrap.min.css set `[hidden] { display: none !important; }` so we also need the `!important` here to be able to override the default hidden behavior on the sphinx rendered scikit-learn.org. See: https://github.com/scikit-learn/scikit-learn/issues/21755 */display: inline-block !important;position: relative;}#sk-container-id-2 div.sk-text-repr-fallback {display: none;}</style><div id=\"sk-container-id-2\" class=\"sk-top-container\"><div class=\"sk-text-repr-fallback\"><pre>Ridge(alpha=2, max_iter=100, tol=0.1)</pre><b>In a Jupyter environment, please rerun this cell to show the HTML representation or trust the notebook. <br />On GitHub, the HTML representation is unable to render, please try loading this page with nbviewer.org.</b></div><div class=\"sk-container\" hidden><div class=\"sk-item\"><div class=\"sk-estimator sk-toggleable\"><input class=\"sk-toggleable__control sk-hidden--visually\" id=\"sk-estimator-id-2\" type=\"checkbox\" checked><label for=\"sk-estimator-id-2\" class=\"sk-toggleable__label sk-toggleable__label-arrow\">Ridge</label><div class=\"sk-toggleable__content\"><pre>Ridge(alpha=2, max_iter=100, tol=0.1)</pre></div></div></div></div></div>"
            ]
          },
          "metadata": {},
          "execution_count": 22
        }
      ]
    },
    {
      "cell_type": "code",
      "source": [
        "ridge_reg.score(x_test,y_test)"
      ],
      "metadata": {
        "colab": {
          "base_uri": "https://localhost:8080/"
        },
        "id": "NmYjI4BDyVoa",
        "outputId": "1442e948-bc77-4046-ccd9-463d17d9e012"
      },
      "execution_count": 23,
      "outputs": [
        {
          "output_type": "execute_result",
          "data": {
            "text/plain": [
              "0.644933713920079"
            ]
          },
          "metadata": {},
          "execution_count": 23
        }
      ]
    },
    {
      "cell_type": "code",
      "source": [
        "ridge_reg.score(x_train,y_train)"
      ],
      "metadata": {
        "colab": {
          "base_uri": "https://localhost:8080/"
        },
        "id": "iq5L7DdBybEC",
        "outputId": "d1c85ecd-f3d2-4e39-c6d4-458325c8740c"
      },
      "execution_count": 24,
      "outputs": [
        {
          "output_type": "execute_result",
          "data": {
            "text/plain": [
              "0.8507450866302276"
            ]
          },
          "metadata": {},
          "execution_count": 24
        }
      ]
    },
    {
      "cell_type": "code",
      "source": [],
      "metadata": {
        "id": "gs5uZUUDyepG"
      },
      "execution_count": null,
      "outputs": []
    }
  ]
}